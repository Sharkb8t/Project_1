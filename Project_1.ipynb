{
 "cells": [
  {
   "cell_type": "code",
   "execution_count": null,
   "id": "42cf65ea-d6e9-4691-8c15-df9afe744c72",
   "metadata": {},
   "outputs": [],
   "source": [
    "# Import Dependencies\n",
    "import pandas as pd\n",
    "from pathlib import Path\n",
    "import numpy as np\n",
    "import matplotlib.pyplot as plt"
   ]
  },
  {
   "cell_type": "code",
   "execution_count": null,
   "id": "a4426cd8-074b-4703-b556-2c54a4feea20",
   "metadata": {},
   "outputs": [],
   "source": [
    "csv_path1 = Path(\"2016_Income_Data.csv\")\n",
    "income1_df = pd.read_csv(csv_path1, encoding=\"UTF=8\")\n",
    "income1_df"
   ]
  },
  {
   "cell_type": "code",
   "execution_count": null,
   "id": "73cec3e7-ea60-46d6-8d2d-83aeabb90ae9",
   "metadata": {},
   "outputs": [],
   "source": [
    "csv_path2 = Path(\"2020_Income_Data.csv\")\n",
    "income2_df = pd.read_csv(csv_path2, encoding=\"UTF=8\")\n",
    "income2_df"
   ]
  },
  {
   "cell_type": "code",
   "execution_count": null,
   "id": "f3b7df76-475f-490c-b170-6d5ccf2df01a",
   "metadata": {},
   "outputs": [],
   "source": [
    "# House Type Income DataFrame 2016\n",
    "housetype1_df = income1_df.iloc[0:5]\n",
    "housetype1_df"
   ]
  },
  {
   "cell_type": "code",
   "execution_count": null,
   "id": "b3966da0-4b52-4ab8-b77d-c4d959d85589",
   "metadata": {},
   "outputs": [],
   "source": [
    "# House Type Income DataFrame 2020\n",
    "housetype2_df = income2_df.iloc[0:5]\n",
    "housetype2_df"
   ]
  },
  {
   "cell_type": "code",
   "execution_count": null,
   "id": "6fb0518f-edda-4165-8be0-d265f2fd65b2",
   "metadata": {},
   "outputs": [],
   "source": [
    "housetype_merge = pd.merge(housetype1_df, housetype2_df, how=\"left\", on=\"Sub-Category\")\n",
    "housetype_merge"
   ]
  },
  {
   "cell_type": "code",
   "execution_count": null,
   "id": "72443bd7-3eac-417d-9277-7502075b8a5e",
   "metadata": {},
   "outputs": [],
   "source": [
    "housetype_merge = housetype_merge.drop(\"Category_y\", axis=1)\n",
    "housetype_merge"
   ]
  },
  {
   "cell_type": "code",
   "execution_count": null,
   "id": "ce403574-5330-4666-9f62-9724e91d594c",
   "metadata": {},
   "outputs": [],
   "source": [
    "housetype_merge = housetype_merge.drop(\"Category_x\", axis=1)\n",
    "housetype_merge"
   ]
  },
  {
   "cell_type": "code",
   "execution_count": null,
   "id": "4d40380d-fa9f-4707-bf9c-2f1479a139ac",
   "metadata": {},
   "outputs": [],
   "source": [
    "# Change and rename category names\n",
    "newhousehold_df = housetype_merge.rename(columns={\"Median Income Estimate (dollars)_x\": \"Median Income Estimate (dollars) 2016\", \n",
    "                                         \"Margin of error (±)_x\": \"Margin of error (±) 2016\",\n",
    "                                         \"Number (thousands)_x\": \"Number (thousands) 2016\",\n",
    "                                         \"Median Income Estimate (dollars)_y\": \"Median Income Estimate (dollars) 2020\",\n",
    "                                         \"Margin of error (±)_y\": \"Margin of error (±) 2020\",\n",
    "                                         \"Number (thousands)_y\": \"Number (thousands) 2020\",\n",
    "                                         \"Sub-Category\": \"Household Type\"\n",
    "                                        })\n",
    "newhousehold_df\n",
    "\n"
   ]
  },
  {
   "cell_type": "code",
   "execution_count": null,
   "id": "efaabcac-60d1-4f56-bbdf-8cdcde44fb3b",
   "metadata": {},
   "outputs": [],
   "source": [
    "# Generate bar plot showing 2016 vs 2020 income differnce\n",
    "household_type = (\"Married-Couple\", \"Female householder, no spouse present\", \"Male householder, no spouse present\", \"Female householder\", \"Male householder\")\n",
    "median_income = {\n",
    "    'Median Income Estimate (dollars) 2016': (87057, 41027, 58051, 30572, 41749),\n",
    "    'Median Income Estimate (dollars) 2020': (101517, 49214, 67304, 35574, 47259),\n",
    "}\n",
    "\n",
    "x = np.arange(len(household_type))\n",
    "width = 0.25\n",
    "multiplier = 0\n",
    "\n",
    "\n",
    "fig, ax = plt.subplots(figsize=(10, 6))\n",
    "\n",
    "for attribute, measurement in median_income.items():\n",
    "    offset = width * multiplier\n",
    "    rects = ax.bar(x + offset, measurement, width, label=attribute)\n",
    "    ax.bar_label(rects, padding=3)\n",
    "    multiplier += 1\n",
    "\n",
    "# Add some text for labels, title and custom x-axis tick labels, etc.\n",
    "ax.set_ylabel('Median Income Estimate (dollars)')\n",
    "ax.set_title('2016 & 2020 Median Income vs Household Type')\n",
    "ax.set_xticks(x + width, household_type)\n",
    "ax.legend(loc='upper left', ncols=3)\n",
    "ax.set_ylim(0, 110000)\n",
    "plt.xticks(rotation=45, ha=\"right\")\n",
    "plt.legend(loc='upper right')\n",
    "\n",
    "plt.show()"
   ]
  },
  {
   "cell_type": "code",
   "execution_count": null,
   "id": "8a55c69a-5bba-427c-9654-748569b313dc",
   "metadata": {},
   "outputs": [],
   "source": []
  },
  {
   "cell_type": "code",
   "execution_count": null,
   "id": "9437165e-aa3c-4dda-8c34-10c5757e638a",
   "metadata": {},
   "outputs": [],
   "source": [
    "# Ethnicity Income DataFrame 2016\n",
    "ethnicity1_df = income1_df.iloc[5:9]\n",
    "ethnicity1_df"
   ]
  },
  {
   "cell_type": "code",
   "execution_count": null,
   "id": "4cf0e0f4-5d50-4e07-a6a0-8bbe1fc3d763",
   "metadata": {},
   "outputs": [],
   "source": [
    "# Ethnicity Income DataFrame 2020\n",
    "ethnicity2_df = income2_df.iloc[5:9]\n",
    "ethnicity2_df"
   ]
  },
  {
   "cell_type": "code",
   "execution_count": null,
   "id": "486d4db3-ebe3-49e2-ad54-57e14b834481",
   "metadata": {},
   "outputs": [],
   "source": [
    "ethnicity_merge = pd.merge(ethnicity1_df, ethnicity2_df, how=\"left\", on=\"Sub-Category\")\n",
    "ethnicity_merge"
   ]
  },
  {
   "cell_type": "code",
   "execution_count": null,
   "id": "8a07231b-e03f-4d41-abdf-c34f573fe193",
   "metadata": {},
   "outputs": [],
   "source": [
    "ethnicity_merge = ethnicity_merge.drop(\"Category_y\", axis=1)\n",
    "ethnicity_merge"
   ]
  },
  {
   "cell_type": "code",
   "execution_count": null,
   "id": "6546292e-4684-48f7-9330-0c0db8af1b7c",
   "metadata": {},
   "outputs": [],
   "source": [
    "ethnicity_merge = ethnicity_merge.drop(\"Category_x\", axis=1)\n",
    "ethnicity_merge"
   ]
  },
  {
   "cell_type": "code",
   "execution_count": null,
   "id": "524d9336-b0cd-4703-8740-36cbf0474319",
   "metadata": {},
   "outputs": [],
   "source": [
    "# Change Ethnicity rename category names\n",
    "newethnicity_df = ethnicity_merge.rename(columns={\"Median Income Estimate (dollars)_x\": \"Median Income Estimate (dollars) 2016\", \n",
    "                                         \"Margin of error (±)_x\": \"Margin of error (±) 2016\",\n",
    "                                         \"Number (thousands)_x\": \"Number (thousands) 2016\",\n",
    "                                         \"Median Income Estimate (dollars)_y\": \"Median Income Estimate (dollars) 2020\",\n",
    "                                         \"Margin of error (±)_y\": \"Margin of error (±) 2020\",\n",
    "                                         \"Number (thousands)_y\": \"Number (thousands) 2020\",\n",
    "                                         \"Sub-Category\": \"Ethnicity\"\n",
    "                                        })\n",
    "newethnicity_df\n",
    "\n"
   ]
  },
  {
   "cell_type": "code",
   "execution_count": null,
   "id": "01f1a889-b214-430c-8dff-742db13a7549",
   "metadata": {},
   "outputs": [],
   "source": [
    "# Generate bar plot showing 2016 vs 2020 income differnce\n",
    "ethnicity = (\"White\", \"Black\", \"Asian\", \"Hispanic (any race)\")\n",
    "median_income = {\n",
    "    'Median Income Estimate (dollars) 2016': (61858, 39490, 81431, 47675),\n",
    "    'Median Income Estimate (dollars) 2020': (71231, 45870, 94903, 55321),\n",
    "}\n",
    "\n",
    "x = np.arange(len(ethnicity))\n",
    "width = 0.25\n",
    "multiplier = 0\n",
    "\n",
    "\n",
    "fig, ax = plt.subplots(figsize=(10, 6))\n",
    "\n",
    "for attribute, measurement in median_income.items():\n",
    "    offset = width * multiplier\n",
    "    rects = ax.bar(x + offset, measurement, width, label=attribute)\n",
    "    ax.bar_label(rects, padding=3)\n",
    "    multiplier += 1\n",
    "\n",
    "# Add some text for labels, title and custom x-axis tick labels, etc.\n",
    "ax.set_ylabel('Median Income Estimate (dollars)')\n",
    "ax.set_title('2016 & 2020 Median Income vs Ethnicity')\n",
    "ax.set_xticks(x + width, ethnicity)\n",
    "ax.legend(loc='upper left', ncols=4)\n",
    "ax.set_ylim(0, 100000)\n",
    "plt.legend(loc='upper left')\n",
    "\n",
    "plt.show()"
   ]
  },
  {
   "cell_type": "code",
   "execution_count": null,
   "id": "bd8dc0f9-1d2b-442b-a886-c361742de1d0",
   "metadata": {},
   "outputs": [],
   "source": []
  },
  {
   "cell_type": "code",
   "execution_count": null,
   "id": "2f45d8ff-dba2-449f-b90d-cb671ac8082b",
   "metadata": {},
   "outputs": [],
   "source": [
    "# Age Income DataFrame 2016\n",
    "age1_df = income1_df.iloc[9:15]\n",
    "age1_df"
   ]
  },
  {
   "cell_type": "code",
   "execution_count": null,
   "id": "67f594d9-28ad-44fd-957f-fa925dcf99b7",
   "metadata": {},
   "outputs": [],
   "source": [
    "# Age Income DataFrame 2020\n",
    "age2_df = income2_df.iloc[9:15]\n",
    "age2_df"
   ]
  },
  {
   "cell_type": "code",
   "execution_count": null,
   "id": "a14b2106-cdb2-4e80-a6c9-72f97ad3a24c",
   "metadata": {},
   "outputs": [],
   "source": [
    "age_merge = pd.merge(age1_df, age2_df, how=\"left\", on=\"Sub-Category\")\n",
    "age_merge"
   ]
  },
  {
   "cell_type": "code",
   "execution_count": null,
   "id": "058fdbb4-a610-43ff-8f28-e5861a262416",
   "metadata": {},
   "outputs": [],
   "source": [
    "age_merge = age_merge.drop(\"Category_y\", axis=1)\n",
    "age_merge"
   ]
  },
  {
   "cell_type": "code",
   "execution_count": null,
   "id": "36feced5-b8d7-40cf-8351-150c0bcf2039",
   "metadata": {},
   "outputs": [],
   "source": [
    "age_merge = age_merge.drop(\"Category_x\", axis=1)\n",
    "age_merge"
   ]
  },
  {
   "cell_type": "code",
   "execution_count": null,
   "id": "bd5923b9-c72c-4b04-9e5b-ed33319dc486",
   "metadata": {},
   "outputs": [],
   "source": [
    "# Change Age rename category names\n",
    "newage_df = age_merge.rename(columns={\"Median Income Estimate (dollars)_x\": \"Median Income Estimate (dollars) 2016\", \n",
    "                                         \"Margin of error (±)_x\": \"Margin of error (±) 2016\",\n",
    "                                         \"Number (thousands)_x\": \"Number (thousands) 2016\",\n",
    "                                         \"Median Income Estimate (dollars)_y\": \"Median Income Estimate (dollars) 2020\",\n",
    "                                         \"Margin of error (±)_y\": \"Margin of error (±) 2020\",\n",
    "                                         \"Number (thousands)_y\": \"Number (thousands) 2020\",\n",
    "                                         \"Sub-Category\": \"Age\"\n",
    "                                        })\n",
    "newage_df\n",
    "\n"
   ]
  },
  {
   "cell_type": "code",
   "execution_count": null,
   "id": "4479cb58-ef84-465a-a2e3-d6103c9ed06e",
   "metadata": {},
   "outputs": [],
   "source": [
    "# Generate bar plot showing 2016 vs 2020 income differnce in Age\n",
    "age_ranges = (\"15 to 24 years\", \"25 to 34 years\", \"35 to 44 years\", \"45 to 54 years\", \"55 to 64 years\", \"65 years and older\")\n",
    "median_income = {\n",
    "    'Median Income Estimate (dollars) 2016': (41655, 60932, 74481, 77213, 65239, 39823),\n",
    "    'Median Income Estimate (dollars) 2020': (46886, 71566, 85694, 90359, 74270, 46360),\n",
    "}\n",
    "\n",
    "x = np.arange(len(age_ranges))\n",
    "width = 0.25\n",
    "multiplier = 0\n",
    "\n",
    "\n",
    "fig, ax = plt.subplots(figsize=(10, 7))\n",
    "\n",
    "for attribute, measurement in median_income.items():\n",
    "    offset = width * multiplier\n",
    "    rects = ax.bar(x + offset, measurement, width, label=attribute)\n",
    "    ax.bar_label(rects, padding=3)\n",
    "    multiplier += 1\n",
    "\n",
    "# Add some text for labels, title and custom x-axis tick labels, etc.\n",
    "ax.set_ylabel('Median Income Estimate (dollars)')\n",
    "ax.set_title('2016 & 2020 Median Income vs Age')\n",
    "ax.set_xticks(x + width, age_ranges)\n",
    "ax.legend(loc='upper left', ncols=4)\n",
    "ax.set_ylim(0, 100000)\n",
    "plt.xticks(rotation=45, ha=\"right\")\n",
    "plt.legend(loc='upper left')\n",
    "\n",
    "plt.show()"
   ]
  },
  {
   "cell_type": "code",
   "execution_count": null,
   "id": "4c276639-68af-4a6b-8942-fc62090da170",
   "metadata": {},
   "outputs": [],
   "source": []
  },
  {
   "cell_type": "code",
   "execution_count": null,
   "id": "89f1ec43-814d-4634-9507-df11e3b9dbfd",
   "metadata": {},
   "outputs": [],
   "source": [
    "csv_path3 = Path(\"2016_Voter_Data.csv\")\n",
    "voter1_df = pd.read_csv(csv_path3, encoding=\"UTF=8\")\n",
    "voter1_df"
   ]
  },
  {
   "cell_type": "code",
   "execution_count": null,
   "id": "8f194566-a345-41f1-832e-3924366e1ef9",
   "metadata": {},
   "outputs": [],
   "source": [
    "csv_path4 = Path(\"2020_Voter_Data.csv\")\n",
    "voter2_df = pd.read_csv(csv_path4, encoding=\"UTF=8\")\n",
    "voter2_df"
   ]
  },
  {
   "cell_type": "code",
   "execution_count": null,
   "id": "83b5be72-0795-4337-96d9-85ce0bb5b7b8",
   "metadata": {},
   "outputs": [],
   "source": []
  }
 ],
 "metadata": {
  "kernelspec": {
   "display_name": "Python 3 (ipykernel)",
   "language": "python",
   "name": "python3"
  },
  "language_info": {
   "codemirror_mode": {
    "name": "ipython",
    "version": 3
   },
   "file_extension": ".py",
   "mimetype": "text/x-python",
   "name": "python",
   "nbconvert_exporter": "python",
   "pygments_lexer": "ipython3",
   "version": "3.12.4"
  }
 },
 "nbformat": 4,
 "nbformat_minor": 5
}
