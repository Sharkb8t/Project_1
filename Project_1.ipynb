{
 "cells": [
  {
   "cell_type": "code",
   "execution_count": null,
   "id": "42cf65ea-d6e9-4691-8c15-df9afe744c72",
   "metadata": {},
   "outputs": [],
   "source": [
    "# Import Dependencies\n",
    "import pandas as pd\n",
    "from pathlib import Path\n",
    "import numpy as np\n",
    "import matplotlib.pyplot as plt"
   ]
  },
  {
   "cell_type": "code",
   "execution_count": null,
   "id": "a4426cd8-074b-4703-b556-2c54a4feea20",
   "metadata": {},
   "outputs": [],
   "source": [
    "csv_path1 = Path(\"2016_Income_Data.csv\")\n",
    "income1_df = pd.read_csv(csv_path1, encoding=\"UTF=8\")\n",
    "income1_df"
   ]
  },
  {
   "cell_type": "code",
   "execution_count": null,
   "id": "73cec3e7-ea60-46d6-8d2d-83aeabb90ae9",
   "metadata": {},
   "outputs": [],
   "source": [
    "csv_path2 = Path(\"2020_Income_Data.csv\")\n",
    "income2_df = pd.read_csv(csv_path2, encoding=\"UTF=8\")\n",
    "income2_df"
   ]
  },
  {
   "cell_type": "code",
   "execution_count": null,
   "id": "89f1ec43-814d-4634-9507-df11e3b9dbfd",
   "metadata": {},
   "outputs": [],
   "source": [
    "csv_path3 = Path(\"2016_Voter_Data.csv\")\n",
    "voter1_df = pd.read_csv(csv_path3, encoding=\"UTF=8\")\n",
    "voter1_df"
   ]
  },
  {
   "cell_type": "code",
   "execution_count": null,
   "id": "8f194566-a345-41f1-832e-3924366e1ef9",
   "metadata": {},
   "outputs": [],
   "source": [
    "csv_path4 = Path(\"2020_Voter_Data.csv\")\n",
    "voter2_df = pd.read_csv(csv_path4, encoding=\"UTF=8\")\n",
    "voter2_df"
   ]
  },
  {
   "cell_type": "code",
   "execution_count": null,
   "id": "f3b7df76-475f-490c-b170-6d5ccf2df01a",
   "metadata": {},
   "outputs": [],
   "source": [
    "# House Type Income DataFrame 2016\n",
    "housetype1_df = income1_df.iloc[0:5]\n",
    "housetype1_df"
   ]
  },
  {
   "cell_type": "code",
   "execution_count": null,
   "id": "b3966da0-4b52-4ab8-b77d-c4d959d85589",
   "metadata": {},
   "outputs": [],
   "source": [
    "# House Type Income DataFrame 2020\n",
    "housetype2_df = income2_df.iloc[0:5]\n",
    "housetype2_df"
   ]
  },
  {
   "cell_type": "code",
   "execution_count": null,
   "id": "9437165e-aa3c-4dda-8c34-10c5757e638a",
   "metadata": {},
   "outputs": [],
   "source": [
    "# Ethnicity Income DataFrame 2016\n",
    "ethnicity1_df = income1_df.iloc[5:9]\n",
    "ethnicity1_df"
   ]
  },
  {
   "cell_type": "code",
   "execution_count": null,
   "id": "4cf0e0f4-5d50-4e07-a6a0-8bbe1fc3d763",
   "metadata": {},
   "outputs": [],
   "source": [
    "# Ethnicity Income DataFrame 2020\n",
    "ethnicity2_df = income2_df.iloc[5:9]\n",
    "ethnicity2_df"
   ]
  },
  {
   "cell_type": "code",
   "execution_count": null,
   "id": "2f45d8ff-dba2-449f-b90d-cb671ac8082b",
   "metadata": {},
   "outputs": [],
   "source": [
    "# Age Income DataFrame 2016\n",
    "age1_df = income1_df.iloc[9:15]\n",
    "age1_df"
   ]
  },
  {
   "cell_type": "code",
   "execution_count": null,
   "id": "67f594d9-28ad-44fd-957f-fa925dcf99b7",
   "metadata": {},
   "outputs": [],
   "source": [
    "# Age Income DataFrame 2020\n",
    "age2_df = income2_df.iloc[9:15]\n",
    "age2_df"
   ]
  },
  {
   "cell_type": "code",
   "execution_count": null,
   "id": "6fb0518f-edda-4165-8be0-d265f2fd65b2",
   "metadata": {},
   "outputs": [],
   "source": [
    "housetype_merge = pd.merge(housetype1_df, housetype2_df, how=\"left\", on=\"Sub-Category\")\n",
    "housetype_merge"
   ]
  },
  {
   "cell_type": "code",
   "execution_count": null,
   "id": "72443bd7-3eac-417d-9277-7502075b8a5e",
   "metadata": {},
   "outputs": [],
   "source": [
    "housetype_merge = housetype_merge.drop(\"Category_y\", axis=1)\n",
    "housetype_merge"
   ]
  },
  {
   "cell_type": "code",
   "execution_count": null,
   "id": "2db363ab-3e9f-4b85-85dd-15f841814b13",
   "metadata": {},
   "outputs": [],
   "source": []
  },
  {
   "cell_type": "code",
   "execution_count": null,
   "id": "2436f555-c4ce-4eb6-b30c-7f44535cbc28",
   "metadata": {},
   "outputs": [],
   "source": []
  },
  {
   "cell_type": "code",
   "execution_count": null,
   "id": "73be8aaf-d75a-40b0-b75d-0a8e20ff1739",
   "metadata": {},
   "outputs": [],
   "source": []
  },
  {
   "cell_type": "code",
   "execution_count": null,
   "id": "486d4db3-ebe3-49e2-ad54-57e14b834481",
   "metadata": {},
   "outputs": [],
   "source": [
    "ethnicity_merge = pd.merge(ethnicity1_df, ethnicity2_df, how=\"left\", on=\"Sub-Category\")\n",
    "ethnicity_merge"
   ]
  },
  {
   "cell_type": "code",
   "execution_count": null,
   "id": "8a07231b-e03f-4d41-abdf-c34f573fe193",
   "metadata": {},
   "outputs": [],
   "source": [
    "ethnicity_merge = ethnicity_merge.drop(\"Category_y\", axis=1)\n",
    "ethnicity_merge"
   ]
  },
  {
   "cell_type": "code",
   "execution_count": null,
   "id": "80f8d0ce-19e2-48cb-ade9-aeaffb828619",
   "metadata": {},
   "outputs": [],
   "source": []
  },
  {
   "cell_type": "code",
   "execution_count": null,
   "id": "172e308e-70ce-4e63-8439-94098e1e9db8",
   "metadata": {},
   "outputs": [],
   "source": []
  },
  {
   "cell_type": "code",
   "execution_count": null,
   "id": "3c1f543d-6d2b-427b-be49-24edd83429d9",
   "metadata": {},
   "outputs": [],
   "source": []
  },
  {
   "cell_type": "code",
   "execution_count": null,
   "id": "a14b2106-cdb2-4e80-a6c9-72f97ad3a24c",
   "metadata": {},
   "outputs": [],
   "source": [
    "age_merge = pd.merge(age1_df, age2_df, how=\"left\", on=\"Sub-Category\")\n",
    "age_merge"
   ]
  },
  {
   "cell_type": "code",
   "execution_count": null,
   "id": "058fdbb4-a610-43ff-8f28-e5861a262416",
   "metadata": {},
   "outputs": [],
   "source": [
    "age_merge = age_merge.drop(\"Category_y\", axis=1)\n",
    "age_merge"
   ]
  },
  {
   "cell_type": "code",
   "execution_count": null,
   "id": "7b79e267-f236-4dd3-ad2b-1446e05d086e",
   "metadata": {},
   "outputs": [],
   "source": []
  },
  {
   "cell_type": "code",
   "execution_count": null,
   "id": "4d40380d-fa9f-4707-bf9c-2f1479a139ac",
   "metadata": {},
   "outputs": [],
   "source": []
  },
  {
   "cell_type": "code",
   "execution_count": null,
   "id": "efaabcac-60d1-4f56-bbdf-8cdcde44fb3b",
   "metadata": {},
   "outputs": [],
   "source": []
  }
 ],
 "metadata": {
  "kernelspec": {
   "display_name": "Python 3 (ipykernel)",
   "language": "python",
   "name": "python3"
  },
  "language_info": {
   "codemirror_mode": {
    "name": "ipython",
    "version": 3
   },
   "file_extension": ".py",
   "mimetype": "text/x-python",
   "name": "python",
   "nbconvert_exporter": "python",
   "pygments_lexer": "ipython3",
   "version": "3.12.4"
  }
 },
 "nbformat": 4,
 "nbformat_minor": 5
}
