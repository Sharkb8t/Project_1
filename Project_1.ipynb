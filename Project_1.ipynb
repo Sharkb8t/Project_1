{
 "cells": [
  {
   "cell_type": "code",
   "execution_count": 1,
   "id": "42cf65ea-d6e9-4691-8c15-df9afe744c72",
   "metadata": {},
   "outputs": [],
   "source": [
    "import pandas as pd\n",
    "from pathlib import Path\n",
    "import numpy as np\n",
    "import matplotlib.pyplot as plt"
   ]
  },
  {
   "cell_type": "code",
   "execution_count": 7,
   "id": "a4426cd8-074b-4703-b556-2c54a4feea20",
   "metadata": {},
   "outputs": [
    {
     "data": {
      "text/html": [
       "<div>\n",
       "<style scoped>\n",
       "    .dataframe tbody tr th:only-of-type {\n",
       "        vertical-align: middle;\n",
       "    }\n",
       "\n",
       "    .dataframe tbody tr th {\n",
       "        vertical-align: top;\n",
       "    }\n",
       "\n",
       "    .dataframe thead th {\n",
       "        text-align: right;\n",
       "    }\n",
       "</style>\n",
       "<table border=\"1\" class=\"dataframe\">\n",
       "  <thead>\n",
       "    <tr style=\"text-align: right;\">\n",
       "      <th></th>\n",
       "      <th>Category</th>\n",
       "      <th>Sub-Category</th>\n",
       "      <th>Median Income Estimate (dollars)</th>\n",
       "      <th>Margin of error (±)</th>\n",
       "      <th>Number (thousands)</th>\n",
       "    </tr>\n",
       "  </thead>\n",
       "  <tbody>\n",
       "    <tr>\n",
       "      <th>0</th>\n",
       "      <td>Type of Household</td>\n",
       "      <td>Married-couple</td>\n",
       "      <td>87,057</td>\n",
       "      <td>695</td>\n",
       "      <td>60,804</td>\n",
       "    </tr>\n",
       "    <tr>\n",
       "      <th>1</th>\n",
       "      <td>Type of Household</td>\n",
       "      <td>Female householder, no spouse present</td>\n",
       "      <td>41,027</td>\n",
       "      <td>871</td>\n",
       "      <td>15,572</td>\n",
       "    </tr>\n",
       "    <tr>\n",
       "      <th>2</th>\n",
       "      <td>Type of Household</td>\n",
       "      <td>Male householder, no spouse present</td>\n",
       "      <td>58,051</td>\n",
       "      <td>2,172</td>\n",
       "      <td>6,452</td>\n",
       "    </tr>\n",
       "    <tr>\n",
       "      <th>3</th>\n",
       "      <td>Type of Household</td>\n",
       "      <td>Female householder</td>\n",
       "      <td>30,572</td>\n",
       "      <td>603</td>\n",
       "      <td>22,858</td>\n",
       "    </tr>\n",
       "    <tr>\n",
       "      <th>4</th>\n",
       "      <td>Type of Household</td>\n",
       "      <td>Male householder</td>\n",
       "      <td>41,749</td>\n",
       "      <td>701</td>\n",
       "      <td>20,539</td>\n",
       "    </tr>\n",
       "  </tbody>\n",
       "</table>\n",
       "</div>"
      ],
      "text/plain": [
       "            Category                           Sub-Category  \\\n",
       "0  Type of Household                         Married-couple   \n",
       "1  Type of Household  Female householder, no spouse present   \n",
       "2  Type of Household    Male householder, no spouse present   \n",
       "3  Type of Household                     Female householder   \n",
       "4  Type of Household                       Male householder   \n",
       "\n",
       "  Median Income Estimate (dollars) Margin of error (±) Number (thousands)  \n",
       "0                           87,057                 695             60,804  \n",
       "1                           41,027                 871             15,572  \n",
       "2                           58,051               2,172              6,452  \n",
       "3                           30,572                 603             22,858  \n",
       "4                           41,749                 701             20,539  "
      ]
     },
     "execution_count": 7,
     "metadata": {},
     "output_type": "execute_result"
    }
   ],
   "source": [
    "csv_path1 = Path(\"Project_1/2016_Income_Data.csv\")\n",
    "housetype_df = pd.read_csv(csv_path1, encoding=\"UTF=8\")\n",
    "housetype_df.head()"
   ]
  },
  {
   "cell_type": "code",
   "execution_count": null,
   "id": "73cec3e7-ea60-46d6-8d2d-83aeabb90ae9",
   "metadata": {},
   "outputs": [],
   "source": []
  },
  {
   "cell_type": "code",
   "execution_count": null,
   "id": "89f1ec43-814d-4634-9507-df11e3b9dbfd",
   "metadata": {},
   "outputs": [],
   "source": []
  }
 ],
 "metadata": {
  "kernelspec": {
   "display_name": "Python 3 (ipykernel)",
   "language": "python",
   "name": "python3"
  },
  "language_info": {
   "codemirror_mode": {
    "name": "ipython",
    "version": 3
   },
   "file_extension": ".py",
   "mimetype": "text/x-python",
   "name": "python",
   "nbconvert_exporter": "python",
   "pygments_lexer": "ipython3",
   "version": "3.12.4"
  }
 },
 "nbformat": 4,
 "nbformat_minor": 5
}
